{
  "nbformat": 4,
  "nbformat_minor": 0,
  "metadata": {
    "colab": {
      "provenance": []
    },
    "kernelspec": {
      "name": "python3",
      "display_name": "Python 3"
    },
    "language_info": {
      "name": "python"
    }
  },
  "cells": [
    {
      "cell_type": "code",
      "execution_count": 1,
      "metadata": {
        "colab": {
          "base_uri": "https://localhost:8080/"
        },
        "id": "49HmVy1QhM9G",
        "outputId": "61485c2c-a6a8-4872-8ea9-c996ae9f1da4"
      },
      "outputs": [
        {
          "output_type": "stream",
          "name": "stdout",
          "text": [
            "Extracted Entities:\n",
            "  - Sony (ORG)\n",
            "  - the Apple Watch (ORG)\n",
            "\n",
            "Sentiment: Positive\n"
          ]
        }
      ],
      "source": [
        "import spacy\n",
        "from collections import defaultdict\n",
        "\n",
        "# Load English model\n",
        "nlp = spacy.load(\"en_core_web_sm\")\n",
        "\n",
        "# Sample user review\n",
        "review = \"I love my new Sony headphones! The sound quality is amazing. But the battery life of the Apple Watch was disappointing.\"\n",
        "\n",
        "# Process the review\n",
        "doc = nlp(review)\n",
        "\n",
        "# Extract named entities\n",
        "entities = [(ent.text, ent.label_) for ent in doc.ents if ent.label_ in [\"PRODUCT\", \"ORG\"]]\n",
        "\n",
        "# Simple rule-based sentiment analyzer\n",
        "positive_words = {\"love\", \"amazing\", \"great\", \"excellent\", \"perfect\"}\n",
        "negative_words = {\"disappointing\", \"bad\", \"poor\", \"terrible\", \"awful\"}\n",
        "\n",
        "sentiment_score = 0\n",
        "for token in doc:\n",
        "    word = token.text.lower()\n",
        "    if word in positive_words:\n",
        "        sentiment_score += 1\n",
        "    elif word in negative_words:\n",
        "        sentiment_score -= 1\n",
        "\n",
        "sentiment = \"Positive\" if sentiment_score > 0 else \"Negative\" if sentiment_score < 0 else \"Neutral\"\n",
        "\n",
        "# Output\n",
        "print(\"Extracted Entities:\")\n",
        "for ent in entities:\n",
        "    print(f\"  - {ent[0]} ({ent[1]})\")\n",
        "\n",
        "print(\"\\nSentiment:\", sentiment)\n"
      ]
    }
  ]
}